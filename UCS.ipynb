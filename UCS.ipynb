{
  "cells": [
    {
      "cell_type": "markdown",
      "metadata": {
        "id": "view-in-github",
        "colab_type": "text"
      },
      "source": [
        "<a href=\"https://colab.research.google.com/github/Palash118/Artificial_Intelligence/blob/main/UCS.ipynb\" target=\"_parent\"><img src=\"https://colab.research.google.com/assets/colab-badge.svg\" alt=\"Open In Colab\"/></a>"
      ]
    },
    {
      "cell_type": "code",
      "execution_count": null,
      "metadata": {
        "id": "ck6sKhs3G-Pp"
      },
      "outputs": [],
      "source": [
        "from collections import defaultdict\n",
        "from queue import PriorityQueue\n",
        "from collections import OrderedDict"
      ]
    },
    {
      "cell_type": "code",
      "execution_count": null,
      "metadata": {
        "id": "FUv2RIHqHrxY"
      },
      "outputs": [],
      "source": [
        "class Graph:\n",
        "  def __init__(self,directed):\n",
        "    self.graph = defaultdict(dict)\n",
        "    self.directed = directed\n",
        "    self.parent = defaultdict(dict)\n",
        "\n",
        "  def add_edge(self,u,v,weight):\n",
        "    if self.directed:\n",
        "      #value = (weight,v)\n",
        "      self.graph[u][v] = (weight)\n",
        "    else:\n",
        "      #value = (weight,v)\n",
        "      self.graph[u][v] = (weight)\n",
        "      #value = (weight,u)\n",
        "      self.graph[v][u] = (weight)\n",
        "\n",
        "\n",
        "  def ucs(self, current_node, goal_node):\n",
        "    visited = []\n",
        "    ara = []\n",
        "    start_node = current_node\n",
        "    queue = PriorityQueue()\n",
        "    queue.put((0,current_node))\n",
        "\n",
        "    while not queue.empty():\n",
        "      item = queue.get()\n",
        "      current_node = item[1]\n",
        "      print(current_node,item[0])\n",
        "\n",
        "      if current_node == goal_node:\n",
        "        cost = item[0]\n",
        "        cost1 = cost\n",
        "        ara.append(goal_node)\n",
        "        print(self.parent)\n",
        "        while start_node != goal_node:\n",
        "          for key,value in self.parent.items():\n",
        "            if goal_node in self.graph[key] and cost1==self.parent[key][goal_node]:\n",
        "              cost1 = cost1 - self.graph[key][goal_node]\n",
        "              ara.append(key)\n",
        "              goal_node = key\n",
        "\n",
        "        queue.queue.clear()\n",
        "      else:\n",
        "        if current_node in visited:\n",
        "          continue\n",
        "\n",
        "        #print(current_node, end=\" \")\n",
        "        visited.append(current_node)\n",
        "        \n",
        "        for neighbour in self.graph[current_node]:\n",
        "          self.parent[current_node][neighbour] = (self.graph[current_node][neighbour]+item[0])\n",
        "          queue.put((self.graph[current_node][neighbour]+item[0],neighbour))\n",
        "    print(\"Optimal Cost: \",cost)\n",
        "    print(\"Optimal path: \", end=\" \")\n",
        "    print(ara[::-1],end=\" \")\n",
        "    "
      ]
    },
    {
      "cell_type": "code",
      "execution_count": null,
      "metadata": {
        "id": "XHfCBnQQDrKT"
      },
      "outputs": [],
      "source": [
        "g = Graph(True)"
      ]
    },
    {
      "cell_type": "code",
      "execution_count": null,
      "metadata": {
        "id": "TTGqE9eEI_tt"
      },
      "outputs": [],
      "source": [
        "#g.graph = defaultdict(list)\n",
        "g.add_edge('S', 'A', 5)\n",
        "g.add_edge('S', 'B', 2)\n",
        "g.add_edge('S', 'C', 4)\n",
        "g.add_edge('A', 'D', 9)\n",
        "g.add_edge('A', 'E', 4)\n",
        "g.add_edge('D', 'H', 7)\n",
        "g.add_edge('E', 'G', 6)\n",
        "g.add_edge('B', 'G', 6)\n",
        "g.add_edge('C', 'F', 2)\n",
        "g.add_edge('F', 'G', 1)\n",
        "\n",
        "\n"
      ]
    },
    {
      "cell_type": "code",
      "execution_count": null,
      "metadata": {
        "colab": {
          "base_uri": "https://localhost:8080/"
        },
        "id": "BUUJzeriMzlR",
        "outputId": "2fe80c3d-84c5-41e2-b5dd-0d8d9aaca357"
      },
      "outputs": [
        {
          "output_type": "stream",
          "name": "stdout",
          "text": [
            "defaultdict(<class 'dict'>, {'S': {'A': 5, 'B': 2, 'C': 4}, 'A': {'D': 9, 'E': 4}, 'D': {'H': 7}, 'E': {'G': 6}, 'B': {'G': 6}, 'C': {'F': 2}, 'F': {'G': 1}})\n"
          ]
        }
      ],
      "source": [
        "print(g.graph)"
      ]
    },
    {
      "cell_type": "code",
      "execution_count": null,
      "metadata": {
        "colab": {
          "base_uri": "https://localhost:8080/"
        },
        "id": "C4dV5PmYizPR",
        "outputId": "0fec902e-ab2b-4849-ece1-738f0bd1c485"
      },
      "outputs": [
        {
          "output_type": "stream",
          "name": "stdout",
          "text": [
            "S 0\n",
            "B 2\n",
            "C 4\n",
            "A 5\n",
            "F 6\n",
            "G 7\n",
            "defaultdict(<class 'dict'>, {'S': {'A': 5, 'B': 2, 'C': 4}, 'B': {'G': 8}, 'C': {'F': 6}, 'A': {'D': 14, 'E': 9}, 'F': {'G': 7}})\n",
            "Optimal Cost:  7\n",
            "Optimal path:  ['S', 'C', 'F', 'G'] "
          ]
        }
      ],
      "source": [
        "g.ucs('S','G')"
      ]
    },
    {
      "cell_type": "code",
      "execution_count": null,
      "metadata": {
        "colab": {
          "base_uri": "https://localhost:8080/"
        },
        "id": "IcMkLpbti3Bk",
        "outputId": "1ae2cf08-f3dc-4d40-9cf9-8404706d896a"
      },
      "outputs": [
        {
          "output_type": "stream",
          "name": "stdout",
          "text": [
            "7\n"
          ]
        }
      ],
      "source": [
        "print(g.parent['F']['G'])"
      ]
    }
  ],
  "metadata": {
    "colab": {
      "provenance": [],
      "authorship_tag": "ABX9TyOvEe7Tsxt5vZFAxv7z8DFs",
      "include_colab_link": true
    },
    "kernelspec": {
      "display_name": "Python 3",
      "name": "python3"
    },
    "language_info": {
      "name": "python"
    }
  },
  "nbformat": 4,
  "nbformat_minor": 0
}