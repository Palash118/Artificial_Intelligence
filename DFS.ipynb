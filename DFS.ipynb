{
  "cells": [
    {
      "cell_type": "markdown",
      "metadata": {
        "id": "view-in-github",
        "colab_type": "text"
      },
      "source": [
        "<a href=\"https://colab.research.google.com/github/Palash118/Artificial_Intelligence/blob/main/DFS.ipynb\" target=\"_parent\"><img src=\"https://colab.research.google.com/assets/colab-badge.svg\" alt=\"Open In Colab\"/></a>"
      ]
    },
    {
      "cell_type": "code",
      "execution_count": null,
      "metadata": {
        "id": "46fExfOGo9hj"
      },
      "outputs": [],
      "source": [
        "from collections import defaultdict\n",
        "from collections import OrderedDict\n",
        "from typing import Any"
      ]
    },
    {
      "cell_type": "code",
      "execution_count": null,
      "metadata": {
        "id": "qUFJ2JjPh2_6"
      },
      "outputs": [],
      "source": [
        "class Stack:\n",
        "  def __init__(self):\n",
        "    self.data = []\n",
        "    \n",
        "  def is_empty(self) -> bool:\n",
        "    if len(self.data) == 0:\n",
        "      return True\n",
        "    return False\n",
        "\n",
        "  def push(self,value:Any) -> None:\n",
        "    self.data.append(value)\n",
        "\n",
        "  def pop(self) -> Any:\n",
        "    return self.data.pop()\n",
        "\n",
        "  def stack_clear(self) -> None:\n",
        "    self.data.clear()\n",
        "  \n",
        "  def stack_length(self) -> Any:\n",
        "    return len(self.data)\n",
        "  \n",
        "  def stack_print(self) -> None:\n",
        "    print(self.data)\n",
        "\n",
        "\n"
      ]
    },
    {
      "cell_type": "code",
      "execution_count": null,
      "metadata": {
        "id": "o8t_RBbwZtQ1"
      },
      "outputs": [],
      "source": [
        "class Graph:\n",
        "  def __init__(self,directed):\n",
        "    self.graph = defaultdict(dict)\n",
        "    self.directed = directed\n",
        "    self.parent = defaultdict(dict)\n",
        "\n",
        "  def add_edge(self,u,v,weight):\n",
        "    if self.directed:\n",
        "      self.graph[u][v] = (weight)\n",
        "    else:\n",
        "      self.graph[u][v] = (weight)\n",
        "      self.graph[v][u] = (weight)\n",
        "\n",
        "  def dfs(self,current_node,goal_node):\n",
        "    visited = []\n",
        "    ara = []\n",
        "    start_node = current_node\n",
        "    stack = Stack()\n",
        "    stack1 = Stack()\n",
        "    stack.push((current_node,0))\n",
        "\n",
        "    while not stack.is_empty():\n",
        "      item = stack.pop()\n",
        "      current_node = item[0]\n",
        "      print(\"current_node \",item[0])\n",
        "      if current_node not in visited:\n",
        "        stack1.push(current_node)\n",
        "      stack.push((current_node,item[1]))\n",
        "      print(\"Not Visited:\")\n",
        "      print(\"stack \",end=\" \")\n",
        "      stack.stack_print()\n",
        "      print(\"stack1 \",end=\" \")\n",
        "      stack1.stack_print()\n",
        "\n",
        "      if current_node == goal_node:\n",
        "        cost = item[1]\n",
        "        stack.stack_clear()\n",
        "\n",
        "      else:\n",
        "        if current_node in visited:\n",
        "          k = stack.pop()\n",
        "          print(\"visited\")\n",
        "          print(\"stack \",k)\n",
        "          print(\"stack \",end=\" \")\n",
        "          stack.stack_print()\n",
        "          k = stack1.pop()\n",
        "          print(\"stack1\",k)\n",
        "          print(\"stack1 \",end=\" \")\n",
        "          stack1.stack_print()\n",
        "          continue\n",
        "        visited.append(current_node)\n",
        "        if len(self.graph[current_node]) == 0:\n",
        "          k = stack.pop()\n",
        "          print(\"length0\")\n",
        "          print(\"stack \",k)\n",
        "          print(\"stack \",end=\" \")\n",
        "          stack.stack_print()\n",
        "          k = stack1.pop()\n",
        "          print(\"stack1 \",k)\n",
        "          print(\"stack1 \",end=\" \")\n",
        "          stack1.stack_print()\n",
        "          continue\n",
        "        for neighbour in self.graph[current_node]:\n",
        "          if neighbour not in visited:\n",
        "            stack.push((neighbour,self.graph[current_node][neighbour]+item[1]))\n",
        "    print(\"Total Cost : \",cost)\n",
        "    for i in range(stack1.stack_length()):\n",
        "      print(stack1.pop())\n",
        "\n",
        "\n",
        "\n",
        "\n",
        "\n",
        "\n",
        "\n",
        "\n"
      ]
    },
    {
      "cell_type": "code",
      "execution_count": null,
      "metadata": {
        "id": "ACJCs_j7a0Po"
      },
      "outputs": [],
      "source": [
        "g = Graph(True)"
      ]
    },
    {
      "cell_type": "code",
      "execution_count": null,
      "metadata": {
        "id": "QiWgoE_-a7r4"
      },
      "outputs": [],
      "source": [
        "g.add_edge('S', 'A', 5)\n",
        "g.add_edge('S', 'B', 2)\n",
        "g.add_edge('S', 'C', 4)\n",
        "g.add_edge('A', 'D', 9)\n",
        "g.add_edge('A', 'E', 4)\n",
        "g.add_edge('D', 'H', 7)\n",
        "g.add_edge('E', 'G', 6)\n",
        "g.add_edge('B', 'G', 6)\n",
        "g.add_edge('C', 'F', 2)\n",
        "g.add_edge('F', 'G', 1)\n"
      ]
    },
    {
      "cell_type": "code",
      "execution_count": null,
      "metadata": {
        "colab": {
          "base_uri": "https://localhost:8080/"
        },
        "id": "0M-uIsLfbBdb",
        "outputId": "fe7143d9-d557-4f53-b4d1-74919119a40b"
      },
      "outputs": [
        {
          "output_type": "stream",
          "name": "stdout",
          "text": [
            "defaultdict(<class 'dict'>, {'S': {'A': 5, 'B': 2, 'C': 4}, 'A': {'D': 9, 'E': 4}, 'D': {'H': 7}, 'E': {'G': 6}, 'B': {'G': 6}, 'C': {'F': 2}, 'F': {'G': 1}})\n"
          ]
        }
      ],
      "source": [
        "print(g.graph)"
      ]
    },
    {
      "cell_type": "code",
      "execution_count": null,
      "metadata": {
        "colab": {
          "base_uri": "https://localhost:8080/"
        },
        "id": "xevQD6l7lBcp",
        "outputId": "bdfc2253-2304-4e2e-fd8c-fc84a3f003be"
      },
      "outputs": [
        {
          "output_type": "stream",
          "name": "stdout",
          "text": [
            "current_node  S\n",
            "Not Visited:\n",
            "stack  [('S', 0)]\n",
            "stack1  ['S']\n",
            "current_node  C\n",
            "Not Visited:\n",
            "stack  [('S', 0), ('A', 5), ('B', 2), ('C', 4)]\n",
            "stack1  ['S', 'C']\n",
            "current_node  F\n",
            "Not Visited:\n",
            "stack  [('S', 0), ('A', 5), ('B', 2), ('C', 4), ('F', 6)]\n",
            "stack1  ['S', 'C', 'F']\n",
            "current_node  G\n",
            "Not Visited:\n",
            "stack  [('S', 0), ('A', 5), ('B', 2), ('C', 4), ('F', 6), ('G', 7)]\n",
            "stack1  ['S', 'C', 'F', 'G']\n",
            "length0\n",
            "stack  ('G', 7)\n",
            "stack  [('S', 0), ('A', 5), ('B', 2), ('C', 4), ('F', 6)]\n",
            "stack1  G\n",
            "stack1  ['S', 'C', 'F']\n",
            "current_node  F\n",
            "Not Visited:\n",
            "stack  [('S', 0), ('A', 5), ('B', 2), ('C', 4), ('F', 6)]\n",
            "stack1  ['S', 'C', 'F']\n",
            "visited\n",
            "stack  ('F', 6)\n",
            "stack  [('S', 0), ('A', 5), ('B', 2), ('C', 4)]\n",
            "stack1 F\n",
            "stack1  ['S', 'C']\n",
            "current_node  C\n",
            "Not Visited:\n",
            "stack  [('S', 0), ('A', 5), ('B', 2), ('C', 4)]\n",
            "stack1  ['S', 'C']\n",
            "visited\n",
            "stack  ('C', 4)\n",
            "stack  [('S', 0), ('A', 5), ('B', 2)]\n",
            "stack1 C\n",
            "stack1  ['S']\n",
            "current_node  B\n",
            "Not Visited:\n",
            "stack  [('S', 0), ('A', 5), ('B', 2)]\n",
            "stack1  ['S', 'B']\n",
            "current_node  B\n",
            "Not Visited:\n",
            "stack  [('S', 0), ('A', 5), ('B', 2)]\n",
            "stack1  ['S', 'B']\n",
            "visited\n",
            "stack  ('B', 2)\n",
            "stack  [('S', 0), ('A', 5)]\n",
            "stack1 B\n",
            "stack1  ['S']\n",
            "current_node  A\n",
            "Not Visited:\n",
            "stack  [('S', 0), ('A', 5)]\n",
            "stack1  ['S', 'A']\n",
            "current_node  E\n",
            "Not Visited:\n",
            "stack  [('S', 0), ('A', 5), ('D', 14), ('E', 9)]\n",
            "stack1  ['S', 'A', 'E']\n",
            "current_node  E\n",
            "Not Visited:\n",
            "stack  [('S', 0), ('A', 5), ('D', 14), ('E', 9)]\n",
            "stack1  ['S', 'A', 'E']\n",
            "visited\n",
            "stack  ('E', 9)\n",
            "stack  [('S', 0), ('A', 5), ('D', 14)]\n",
            "stack1 E\n",
            "stack1  ['S', 'A']\n",
            "current_node  D\n",
            "Not Visited:\n",
            "stack  [('S', 0), ('A', 5), ('D', 14)]\n",
            "stack1  ['S', 'A', 'D']\n",
            "current_node  H\n",
            "Not Visited:\n",
            "stack  [('S', 0), ('A', 5), ('D', 14), ('H', 21)]\n",
            "stack1  ['S', 'A', 'D', 'H']\n",
            "Total Cost :  21\n",
            "H\n",
            "D\n",
            "A\n",
            "S\n"
          ]
        }
      ],
      "source": [
        "g.dfs('S','H')"
      ]
    },
    {
      "cell_type": "code",
      "execution_count": null,
      "metadata": {
        "id": "ckQf9aN8nrbp"
      },
      "outputs": [],
      "source": [
        "s = Stack()\n",
        "s.push((5,7))\n",
        "s.push(10)\n",
        "s.push((7,8,9))"
      ]
    },
    {
      "cell_type": "code",
      "execution_count": null,
      "metadata": {
        "colab": {
          "base_uri": "https://localhost:8080/"
        },
        "id": "AwTv2BqJn2Uh",
        "outputId": "2323ef7a-bb4c-4d83-fc97-beece056580e"
      },
      "outputs": [
        {
          "data": {
            "text/plain": [
              "(7, 8, 9)"
            ]
          },
          "execution_count": 48,
          "metadata": {},
          "output_type": "execute_result"
        }
      ],
      "source": [
        "s.pop()"
      ]
    },
    {
      "cell_type": "code",
      "execution_count": null,
      "metadata": {
        "id": "5HjjoWPhoXBn"
      },
      "outputs": [],
      "source": [
        "s.push((7,8,9))"
      ]
    },
    {
      "cell_type": "code",
      "execution_count": null,
      "metadata": {
        "colab": {
          "base_uri": "https://localhost:8080/"
        },
        "id": "0froMaf4oc3C",
        "outputId": "615eecf7-10a5-4a2a-d542-226310bd1b33"
      },
      "outputs": [
        {
          "name": "stdout",
          "output_type": "stream",
          "text": [
            "7\n"
          ]
        }
      ],
      "source": [
        "item = s.pop()\n",
        "print(item[0])"
      ]
    }
  ],
  "metadata": {
    "colab": {
      "provenance": [],
      "authorship_tag": "ABX9TyNj3YHEFK6NdC7bo9aqpa6G",
      "include_colab_link": true
    },
    "kernelspec": {
      "display_name": "Python 3",
      "name": "python3"
    },
    "language_info": {
      "name": "python"
    }
  },
  "nbformat": 4,
  "nbformat_minor": 0
}