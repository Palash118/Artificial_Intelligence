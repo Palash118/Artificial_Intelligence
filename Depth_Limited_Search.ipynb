{
  "nbformat": 4,
  "nbformat_minor": 0,
  "metadata": {
    "colab": {
      "provenance": [],
      "authorship_tag": "ABX9TyOax7DC5IO+GU69o7Ep5DtE",
      "include_colab_link": true
    },
    "kernelspec": {
      "name": "python3",
      "display_name": "Python 3"
    },
    "language_info": {
      "name": "python"
    }
  },
  "cells": [
    {
      "cell_type": "markdown",
      "metadata": {
        "id": "view-in-github",
        "colab_type": "text"
      },
      "source": [
        "<a href=\"https://colab.research.google.com/github/Palash118/Artificial_Intelligence/blob/main/Depth_Limited_Search.ipynb\" target=\"_parent\"><img src=\"https://colab.research.google.com/assets/colab-badge.svg\" alt=\"Open In Colab\"/></a>"
      ]
    },
    {
      "cell_type": "code",
      "execution_count": null,
      "metadata": {
        "id": "snohZKq5BOD5"
      },
      "outputs": [],
      "source": [
        "from collections import defaultdict\n",
        "from collections import OrderedDict\n",
        "from typing import Any"
      ]
    },
    {
      "cell_type": "code",
      "source": [
        "class Stack:\n",
        "  def __init__(self):\n",
        "    self.data = []\n",
        "    \n",
        "  def is_empty(self) -> bool:\n",
        "    if len(self.data) == 0:\n",
        "      return True\n",
        "    return False\n",
        "\n",
        "  def push(self,value:Any) -> None:\n",
        "    self.data.append(value)\n",
        "\n",
        "  def pop(self) -> Any:\n",
        "    return self.data.pop()\n",
        "\n",
        "  def stack_clear(self) -> None:\n",
        "    self.data.clear()\n",
        "  \n",
        "  def stack_length(self) -> Any:\n",
        "    return len(self.data)\n",
        "  \n",
        "  def stack_print(self) -> None:\n",
        "    print(self.data)\n",
        "\n",
        "\n"
      ],
      "metadata": {
        "id": "L4hN9UMWE3xd"
      },
      "execution_count": null,
      "outputs": []
    },
    {
      "cell_type": "code",
      "source": [
        "class Graph:\n",
        "  def __init__(self,directed):\n",
        "    self.graph = defaultdict(dict)\n",
        "    self.directed = directed\n",
        "    self.parent = defaultdict(dict)\n",
        "\n",
        "  def add_edge(self,u,v,weight):\n",
        "    if self.directed:\n",
        "      self.graph[u][v] = (weight)\n",
        "    else:\n",
        "      self.graph[u][v] = (weight)\n",
        "      self.graph[v][u] = (weight)\n",
        "\n",
        "  def dfs(self,current_node,goal_node,k):\n",
        "    visited = []\n",
        "    ara = []\n",
        "    start_node = current_node\n",
        "    stack = Stack()\n",
        "    stack1 = Stack()\n",
        "    stack.push((current_node,0,1))\n",
        "\n",
        "    while not stack.is_empty():\n",
        "      item = stack.pop()\n",
        "      current_node = item[0]\n",
        "      if current_node not in visited:\n",
        "        stack1.push(current_node)\n",
        "      stack.push((current_node,item[1]))\n",
        "\n",
        "      if current_node == goal_node:\n",
        "        cost = item[1]\n",
        "        stack.stack_clear()\n",
        "\n",
        "      else:\n",
        "        if current_node in visited:\n",
        "          stack.pop()\n",
        "          stack1.pop()\n",
        "          continue\n",
        "\n",
        "        visited.append(current_node)\n",
        "        if len(self.graph[current_node]) == 0:\n",
        "          stack.pop()\n",
        "          stack1.pop()\n",
        "          continue\n",
        "        for neighbour in self.graph[current_node]:\n",
        "          if neighbour not in visited and item[2]<k:\n",
        "            stack.push((neighbour,self.graph[current_node][neighbour]+item[1],item[2]+1))\n",
        "    print(\"Total Cost : \",cost)\n",
        "    for i in range(stack1.stack_length()):\n",
        "      print(stack1.pop())\n",
        "\n",
        "\n",
        "\n",
        "\n",
        "\n",
        "\n",
        "\n",
        "\n"
      ],
      "metadata": {
        "id": "joTRgXFsE58w"
      },
      "execution_count": null,
      "outputs": []
    },
    {
      "cell_type": "code",
      "source": [
        "g = Graph(True)"
      ],
      "metadata": {
        "id": "XH3wdBGSE80T"
      },
      "execution_count": null,
      "outputs": []
    },
    {
      "cell_type": "code",
      "source": [
        "g.add_edge('S', 'A', 5)\n",
        "g.add_edge('S', 'B', 2)\n",
        "g.add_edge('S', 'C', 4)\n",
        "g.add_edge('A', 'D', 9)\n",
        "g.add_edge('A', 'E', 4)\n",
        "g.add_edge('D', 'H', 7)\n",
        "g.add_edge('E', 'G', 6)\n",
        "g.add_edge('B', 'G', 6)\n",
        "g.add_edge('C', 'F', 2)\n",
        "g.add_edge('F', 'G', 1)\n"
      ],
      "metadata": {
        "id": "33-koL1sE_Uu"
      },
      "execution_count": null,
      "outputs": []
    },
    {
      "cell_type": "code",
      "source": [
        "print(g.graph)"
      ],
      "metadata": {
        "colab": {
          "base_uri": "https://localhost:8080/"
        },
        "id": "1A3elbBrFBso",
        "outputId": "b5d1ea59-f63e-4b2f-8037-8e9f08a4b581"
      },
      "execution_count": null,
      "outputs": [
        {
          "output_type": "stream",
          "name": "stdout",
          "text": [
            "defaultdict(<class 'dict'>, {'S': {'A': 5, 'B': 2, 'C': 4}, 'A': {'D': 9, 'E': 4}, 'D': {'H': 7}, 'E': {'G': 6}, 'B': {'G': 6}, 'C': {'F': 2}, 'F': {'G': 1}})\n"
          ]
        }
      ]
    },
    {
      "cell_type": "code",
      "source": [
        "k = int(input(\"Enter depth Limit : \"))\n",
        "g.dfs('S','G',k)"
      ],
      "metadata": {
        "colab": {
          "base_uri": "https://localhost:8080/"
        },
        "id": "r2z5Zlg2FECR",
        "outputId": "dc412843-c461-48f6-b95b-7bf8522c28f8"
      },
      "execution_count": null,
      "outputs": [
        {
          "output_type": "stream",
          "name": "stdout",
          "text": [
            "Enter depth Limit : 4\n",
            "Total Cost :  7\n",
            "G\n",
            "F\n",
            "C\n",
            "S\n"
          ]
        }
      ]
    }
  ]
}