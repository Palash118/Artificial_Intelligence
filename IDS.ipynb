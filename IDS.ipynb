{
  "nbformat": 4,
  "nbformat_minor": 0,
  "metadata": {
    "colab": {
      "provenance": [],
      "authorship_tag": "ABX9TyPhlbTNeHG+ijXkVuPILQtW",
      "include_colab_link": true
    },
    "kernelspec": {
      "name": "python3",
      "display_name": "Python 3"
    },
    "language_info": {
      "name": "python"
    }
  },
  "cells": [
    {
      "cell_type": "markdown",
      "metadata": {
        "id": "view-in-github",
        "colab_type": "text"
      },
      "source": [
        "<a href=\"https://colab.research.google.com/github/Palash118/Artificial_Intelligence/blob/main/IDS.ipynb\" target=\"_parent\"><img src=\"https://colab.research.google.com/assets/colab-badge.svg\" alt=\"Open In Colab\"/></a>"
      ]
    },
    {
      "cell_type": "code",
      "execution_count": null,
      "metadata": {
        "id": "bG-JnqDd0iwc"
      },
      "outputs": [],
      "source": [
        "from collections import defaultdict\n",
        "from collections import OrderedDict\n",
        "from typing import Any"
      ]
    },
    {
      "cell_type": "code",
      "source": [
        "class Stack:\n",
        "  def __init__(self):\n",
        "    self.data = []\n",
        "    \n",
        "  def is_empty(self) -> bool:\n",
        "    if len(self.data) == 0:\n",
        "      return True\n",
        "    return False\n",
        "\n",
        "  def push(self,value:Any) -> None:\n",
        "    self.data.append(value)\n",
        "\n",
        "  def pop(self) -> Any:\n",
        "    return self.data.pop()\n",
        "\n",
        "  def stack_clear(self) -> None:\n",
        "    self.data.clear()\n",
        "  \n",
        "  def stack_length(self) -> Any:\n",
        "    return len(self.data)\n",
        "  \n",
        "  def stack_print(self) -> None:\n",
        "    print(self.data)\n",
        "    "
      ],
      "metadata": {
        "id": "G9-O_Wd33AS2"
      },
      "execution_count": null,
      "outputs": []
    },
    {
      "cell_type": "code",
      "source": [
        "class Queue:\n",
        "  def __init__(self):\n",
        "    self.data = []\n",
        "\n",
        "  def is_empty(self) -> bool:\n",
        "    if len(self.data) == 0:\n",
        "      return True\n",
        "    return False\n",
        "\n",
        "  def enqueue(self,value:Any) -> None:\n",
        "    self.data.insert(0,value)\n",
        "\n",
        "  def dequeue(self) -> Any:\n",
        "    return self.data.pop()\n",
        "\n",
        "  def peek(self) -> Any:\n",
        "    if not self.is_empty():\n",
        "      return self.data[-1]\n",
        "    return\n",
        "\n",
        "  def is_clear(self) -> Any:\n",
        "    for i in range(len(self.data)):\n",
        "      self.data.pop()\n"
      ],
      "metadata": {
        "id": "kN3Aypob8-LF"
      },
      "execution_count": null,
      "outputs": []
    },
    {
      "cell_type": "code",
      "source": [
        "class Graph:\n",
        "  cnt = 1\n",
        "  def __init__(self,directed):\n",
        "    self.graph = defaultdict(dict)\n",
        "    self.directed = directed\n",
        "    self.parent = defaultdict(dict)\n",
        "\n",
        "  def add_edge(self,u,v,weight):\n",
        "    if self.directed:\n",
        "      self.graph[u][v] = (weight)\n",
        "    else:\n",
        "      self.graph[u][v] = (weight)\n",
        "      self.graph[v][u] = (weight)\n",
        "\n",
        "  def dfs(self,current_node,goal_node,stack,cnt):\n",
        "    stack.stack_print()\n",
        "    visited = []\n",
        "    ara = []\n",
        "    start_node = current_node\n",
        "    temp = 0\n",
        "\n",
        "    while not stack.is_empty():\n",
        "      item = stack.pop()\n",
        "      current_node = item[0]\n",
        "      if current_node == goal_node:\n",
        "        cost = item[1]\n",
        "        temp = 1\n",
        "        stack.stack_clear()\n",
        "\n",
        "      else:\n",
        "        if current_node in visited:\n",
        "          continue\n",
        "        visited.append(current_node)\n",
        "    if temp == 1:\n",
        "      print(\"Total Cost : \",cost)\n",
        "      return -1\n",
        "      #for i in range(stack1.stack_length()):\n",
        "      #  print(stack1.pop())\n",
        "    else:\n",
        "      print(cnt)\n",
        "      return cnt+1\n",
        "\n",
        "  def ids(self,current_node,goal_node):\n",
        "    visited = []\n",
        "    stack = Stack()\n",
        "    start_node = current_node\n",
        "    stack.push((start_node,0,1))\n",
        "    stack1 = Stack()\n",
        "    stack1.push((start_node,0))\n",
        "    cnt = 1\n",
        "    while True:\n",
        "      if stack.is_empty():\n",
        "        cnt = self.dfs(start_node,goal_node,stack1,cnt)\n",
        "        print(cnt)\n",
        "        visited = []\n",
        "        stack = Stack()\n",
        "        stack.push((start_node,0,1))\n",
        "        stack1 = Stack()\n",
        "        stack1.push((start_node,0))\n",
        "        stack.stack_print()\n",
        "        stack1.stack_print()\n",
        "        print(visited)\n",
        "        if cnt == -1:\n",
        "          return\n",
        "      else:\n",
        "        item = stack.pop()\n",
        "        current_node = item[0]\n",
        "        level = item[2]\n",
        "        if current_node in visited:\n",
        "          continue\n",
        "        visited.append(current_node)\n",
        "        for neighbour in self.graph[current_node]:\n",
        "          if neighbour not in visited and level<cnt:\n",
        "            if item[2] != cnt-1:\n",
        "              stack.push((neighbour,self.graph[current_node][neighbour]+item[1],item[2]+1))\n",
        "            stack1.push((neighbour,self.graph[current_node][neighbour]+item[1]))\n",
        "\n",
        "      \n",
        "\n",
        "\n",
        "\n"
      ],
      "metadata": {
        "id": "2Mkkwwzr3EG0"
      },
      "execution_count": null,
      "outputs": []
    },
    {
      "cell_type": "code",
      "source": [
        "g = Graph(True)"
      ],
      "metadata": {
        "id": "cCBrwzGp3Jh3"
      },
      "execution_count": null,
      "outputs": []
    },
    {
      "cell_type": "code",
      "source": [
        "g.add_edge('S', 'A', 5)\n",
        "g.add_edge('S', 'B', 2)\n",
        "g.add_edge('S', 'C', 4)\n",
        "g.add_edge('A', 'D', 9)\n",
        "g.add_edge('A', 'E', 4)\n",
        "g.add_edge('D', 'H', 7)\n",
        "g.add_edge('E', 'G', 6)\n",
        "g.add_edge('B', 'G', 6)\n",
        "g.add_edge('C', 'F', 2)\n",
        "g.add_edge('F', 'G', 1)\n"
      ],
      "metadata": {
        "id": "kst6gGxD3NsX"
      },
      "execution_count": null,
      "outputs": []
    },
    {
      "cell_type": "code",
      "source": [
        "print(g.graph)"
      ],
      "metadata": {
        "colab": {
          "base_uri": "https://localhost:8080/"
        },
        "id": "qkdkwO7K3RZO",
        "outputId": "c15d3f4f-b5a0-49f4-b02a-aaa53fb2f792"
      },
      "execution_count": null,
      "outputs": [
        {
          "output_type": "stream",
          "name": "stdout",
          "text": [
            "defaultdict(<class 'dict'>, {'S': {'A': 5, 'B': 2, 'C': 4}, 'A': {'D': 9, 'E': 4}, 'D': {'H': 7}, 'E': {'G': 6}, 'B': {'G': 6}, 'C': {'F': 2}, 'F': {'G': 1}})\n"
          ]
        }
      ]
    },
    {
      "cell_type": "code",
      "source": [
        "g.ids('S','G')"
      ],
      "metadata": {
        "colab": {
          "base_uri": "https://localhost:8080/"
        },
        "id": "rDqdhw703Ubm",
        "outputId": "c0478281-51f9-4c35-b348-a0d9636863ac"
      },
      "execution_count": null,
      "outputs": [
        {
          "output_type": "stream",
          "name": "stdout",
          "text": [
            "[('S', 0)]\n",
            "1\n",
            "2\n",
            "[('S', 0, 1)]\n",
            "[('S', 0)]\n",
            "[]\n",
            "[('S', 0), ('A', 5), ('B', 2), ('C', 4)]\n",
            "2\n",
            "3\n",
            "[('S', 0, 1)]\n",
            "[('S', 0)]\n",
            "[]\n",
            "[('S', 0), ('A', 5), ('B', 2), ('C', 4), ('F', 6), ('G', 8), ('D', 14), ('E', 9)]\n",
            "Total Cost :  8\n",
            "-1\n",
            "[('S', 0, 1)]\n",
            "[('S', 0)]\n",
            "[]\n"
          ]
        }
      ]
    }
  ]
}