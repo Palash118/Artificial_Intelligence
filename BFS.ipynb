{
  "nbformat": 4,
  "nbformat_minor": 0,
  "metadata": {
    "colab": {
      "provenance": [],
      "authorship_tag": "ABX9TyNisqbDUS/2+X96+i8e+yLs",
      "include_colab_link": true
    },
    "kernelspec": {
      "name": "python3",
      "display_name": "Python 3"
    },
    "language_info": {
      "name": "python"
    }
  },
  "cells": [
    {
      "cell_type": "markdown",
      "metadata": {
        "id": "view-in-github",
        "colab_type": "text"
      },
      "source": [
        "<a href=\"https://colab.research.google.com/github/Palash118/Artificial_Intelligence/blob/main/BFS.ipynb\" target=\"_parent\"><img src=\"https://colab.research.google.com/assets/colab-badge.svg\" alt=\"Open In Colab\"/></a>"
      ]
    },
    {
      "cell_type": "code",
      "execution_count": null,
      "metadata": {
        "id": "2-b5FNg_Rx-y"
      },
      "outputs": [],
      "source": [
        "from collections import defaultdict\n",
        "from collections import OrderedDict\n",
        "from typing import Any"
      ]
    },
    {
      "cell_type": "code",
      "source": [
        "class Queue:\n",
        "  def __init__(self):\n",
        "    self.data = []\n",
        "\n",
        "  def is_empty(self) -> bool:\n",
        "    if len(self.data) == 0:\n",
        "      return True\n",
        "    return False\n",
        "\n",
        "  def enqueue(self,value:Any) -> None:\n",
        "    self.data.insert(0,value)\n",
        "\n",
        "  def dequeue(self) -> Any:\n",
        "    return self.data.pop()\n",
        "\n",
        "  def peek(self) -> Any:\n",
        "    if not self.is_empty():\n",
        "      return self.data[-1]\n",
        "    return\n",
        "\n",
        "  def is_clear(self) -> Any:\n",
        "    for i in range(len(self.data)):\n",
        "      self.data.pop()\n"
      ],
      "metadata": {
        "id": "Zq7aJYHOTCeh"
      },
      "execution_count": null,
      "outputs": []
    },
    {
      "cell_type": "code",
      "source": [
        "class Graph:\n",
        "  def __init__(self,directed):\n",
        "    self.graph = defaultdict(list)\n",
        "    self.directed = directed\n",
        "    self.parent = defaultdict(list)\n",
        "\n",
        "  def add_edge(self,u,v,weight):\n",
        "    if self.directed:\n",
        "      value = (weight,v)\n",
        "      self.graph[u].append(value)\n",
        "    else:\n",
        "      value = (weight,v)\n",
        "      self.graph[u].append(value)\n",
        "      value = (weight,u)\n",
        "      self.graph[v].append(value)\n",
        "\n",
        "  def bfs(self,current_node,goal_node):\n",
        "    visited = []\n",
        "    ara = []\n",
        "    is_queue = []\n",
        "    start_node = current_node\n",
        "    queue = Queue()\n",
        "    queue.enqueue((0,current_node))\n",
        "    \n",
        "    while not queue.is_empty():\n",
        "      item = queue.dequeue()\n",
        "      current_node = item[1]\n",
        "\n",
        "      if current_node == goal_node:\n",
        "        cost = item[0]\n",
        "        print(self.parent.items())\n",
        "        parent1 = OrderedDict(reversed(list(self.parent.items())))\n",
        "        ara.append(goal_node)\n",
        "        while start_node != goal_node:\n",
        "          for key,value in parent1.items():\n",
        "            if goal_node in value:\n",
        "              goal_node = key\n",
        "              ara.append(goal_node)\n",
        "\n",
        "        queue.is_clear()\n",
        "\n",
        "      else:\n",
        "        if current_node in visited:\n",
        "          continue\n",
        "\n",
        "        visited.append(current_node)\n",
        "        for neighbour in self.graph[current_node]:\n",
        "          value = (neighbour[1])\n",
        "          if neighbour[1] in is_queue:\n",
        "            continue\n",
        "          else:\n",
        "            is_queue.append(value)\n",
        "            self.parent[current_node].append(value)\n",
        "            queue.enqueue((neighbour[0]+item[0],neighbour[1]))\n",
        "    print(\"Optimal Cost: \",cost)\n",
        "    print(\"Optimal path: \", end=\" \")\n",
        "    print(ara[::-1],end=\" \")\n",
        "\n",
        "\n"
      ],
      "metadata": {
        "id": "57rdnyHgTqc7"
      },
      "execution_count": null,
      "outputs": []
    },
    {
      "cell_type": "code",
      "source": [
        "g = Graph(True)"
      ],
      "metadata": {
        "id": "tVYiRxymWfQ-"
      },
      "execution_count": null,
      "outputs": []
    },
    {
      "cell_type": "code",
      "source": [
        "# Inserting Starting Node, Destination, Edge Cost\n",
        "\n",
        "g.add_edge('S', 'A', 5)\n",
        "g.add_edge('S', 'B', 2)\n",
        "g.add_edge('S', 'C', 4)\n",
        "g.add_edge('A', 'D', 9)\n",
        "g.add_edge('A', 'E', 4)\n",
        "g.add_edge('D', 'H', 7)\n",
        "g.add_edge('E', 'G', 6)\n",
        "g.add_edge('B', 'G', 6)\n",
        "g.add_edge('C', 'F', 2)\n",
        "g.add_edge('F', 'G', 1)\n"
      ],
      "metadata": {
        "id": "bCD3PS7ZWjyK"
      },
      "execution_count": null,
      "outputs": []
    },
    {
      "cell_type": "code",
      "source": [
        "print(g.graph)"
      ],
      "metadata": {
        "colab": {
          "base_uri": "https://localhost:8080/"
        },
        "id": "s2K-d8PRXLGo",
        "outputId": "16c49e47-964c-40af-c0c3-195ae5a76422"
      },
      "execution_count": null,
      "outputs": [
        {
          "output_type": "stream",
          "name": "stdout",
          "text": [
            "defaultdict(<class 'list'>, {'S': [(5, 'A'), (2, 'B'), (4, 'C')], 'A': [(9, 'D'), (4, 'E')], 'D': [(7, 'H')], 'E': [(6, 'G')], 'B': [(6, 'G')], 'C': [(2, 'F')], 'F': [(1, 'G')]})\n"
          ]
        }
      ]
    },
    {
      "cell_type": "code",
      "source": [
        "g.bfs('S','G')"
      ],
      "metadata": {
        "colab": {
          "base_uri": "https://localhost:8080/"
        },
        "id": "7e9mfChQYOEs",
        "outputId": "0d9765ec-5bba-40f1-9bd5-adb22c5fc5ea"
      },
      "execution_count": null,
      "outputs": [
        {
          "output_type": "stream",
          "name": "stdout",
          "text": [
            "dict_items([('S', ['A', 'B', 'C']), ('A', ['D', 'E']), ('B', ['G']), ('C', ['F']), ('D', ['H'])])\n",
            "Optimal Cost:  8\n",
            "Optimal path:  ['S', 'B', 'G'] "
          ]
        }
      ]
    }
  ]
}