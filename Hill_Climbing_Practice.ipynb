{
  "nbformat": 4,
  "nbformat_minor": 0,
  "metadata": {
    "colab": {
      "provenance": [],
      "authorship_tag": "ABX9TyPb0Y4qxCAhpHQADp67+6Nn",
      "include_colab_link": true
    },
    "kernelspec": {
      "name": "python3",
      "display_name": "Python 3"
    },
    "language_info": {
      "name": "python"
    }
  },
  "cells": [
    {
      "cell_type": "markdown",
      "metadata": {
        "id": "view-in-github",
        "colab_type": "text"
      },
      "source": [
        "<a href=\"https://colab.research.google.com/github/Palash118/Artificial_Intelligence/blob/main/Hill_Climbing_Practice.ipynb\" target=\"_parent\"><img src=\"https://colab.research.google.com/assets/colab-badge.svg\" alt=\"Open In Colab\"/></a>"
      ]
    },
    {
      "cell_type": "code",
      "execution_count": null,
      "metadata": {
        "id": "Y1iDVqYXxW1n"
      },
      "outputs": [],
      "source": [
        "import random"
      ]
    },
    {
      "cell_type": "code",
      "source": [
        "def randomSolution(tsp):\n",
        "  cities = list(range(len(tsp)))\n",
        "  #print(cities)\n",
        "  solution = []\n",
        "\n",
        "  for i in range(len(tsp)):\n",
        "    randomCity = cities[random.randint(0,len(cities)-1)]\n",
        "    solution.append(randomCity)\n",
        "    cities.remove(randomCity)\n",
        "\n",
        "  return solution\n",
        "\n"
      ],
      "metadata": {
        "id": "8Pb9EOpQy0WB"
      },
      "execution_count": null,
      "outputs": []
    },
    {
      "cell_type": "code",
      "source": [
        "def routeLength(tsp,solution):\n",
        "  routeLength = 0\n",
        "  for i in range(len(solution)):\n",
        "    routeLength += tsp[solution[i-1]][solution[i]]\n",
        "\n",
        "  return routeLength\n",
        "  "
      ],
      "metadata": {
        "id": "MgN-SKW10nGB"
      },
      "execution_count": null,
      "outputs": []
    },
    {
      "cell_type": "code",
      "source": [
        "def getNeighbours(solution):\n",
        "  neighbours = []\n",
        "  for i in range(len(solution)):\n",
        "    for j in range(i+1,len(solution)):\n",
        "      neighbour = solution.copy()\n",
        "      #print(neighbour)\n",
        "      neighbour[i] = solution[j]\n",
        "      neighbour[j] = solution[i]\n",
        "      #print(neighbour)\n",
        "      #print('HI')\n",
        "      neighbours.append(neighbour)\n",
        "\n",
        "  return neighbours\n",
        "\n"
      ],
      "metadata": {
        "id": "VwDs6t_z1vow"
      },
      "execution_count": null,
      "outputs": []
    },
    {
      "cell_type": "code",
      "source": [
        "def getBestNeighbour(tsp, neighbours):\n",
        "  bestRouteLength = routeLength(tsp,neighbours[0])\n",
        "  bestNeighbour = neighbours[0]\n",
        "  for neighbour in neighbours:\n",
        "    currentRouteLength = routeLength(tsp,neighbour)\n",
        "    if currentRouteLength < bestRouteLength:\n",
        "      bestRouteLength = currentRouteLength\n",
        "      bestNeighbour = neighbour\n",
        "\n",
        "  return bestNeighbour, bestRouteLength\n",
        "\n",
        "  "
      ],
      "metadata": {
        "id": "hyLPxdCP5Qru"
      },
      "execution_count": null,
      "outputs": []
    },
    {
      "cell_type": "code",
      "source": [
        "def hillClimbing(tsp):\n",
        "  currentSolution = randomSolution(tsp)\n",
        "  currentRouteLength = routeLength(tsp,currentSolution)\n",
        "\n",
        "  neighbours = getNeighbours(currentSolution)\n",
        "  bestNeighbour, bestNeighbourRouteLength = getBestNeighbour(tsp,neighbours)\n",
        "\n",
        "  while bestNeighbourRouteLength < currentRouteLength:\n",
        "    currentSolution = bestNeighbour\n",
        "    currentRouteLength = bestNeighbourRouteLength\n",
        "    neighbours = getNeighbours(currentSolution)\n",
        "    bestNeighbour, bestNeighbourRouteLength = getBestNeighbour(tsp, neighbours)\n",
        "\n",
        "  return currentSolution, currentRouteLength\n",
        "\n",
        "\n"
      ],
      "metadata": {
        "id": "fmNcdREL9KsH"
      },
      "execution_count": null,
      "outputs": []
    },
    {
      "cell_type": "code",
      "source": [
        "def main():\n",
        "  tsp = [\n",
        "      [0,400,500,300],\n",
        "      [400,0,300,500],\n",
        "      [500,300,0,400],\n",
        "      [300,500,400,0]\n",
        "  ]\n",
        "\n",
        "  #solution = [3,0,1,2]\n",
        "  #print(getNeighbours(solution))\n",
        "\n",
        "  #print(randomSolution(tsp))\n",
        "\n",
        "  print(hillClimbing(tsp))\n",
        "\n",
        "\n",
        "if __name__ == '__main__':\n",
        "  main()\n",
        "\n"
      ],
      "metadata": {
        "colab": {
          "base_uri": "https://localhost:8080/"
        },
        "id": "-XbxllRCzIbM",
        "outputId": "19099b31-0dae-4892-ddf8-b930460b5908"
      },
      "execution_count": null,
      "outputs": [
        {
          "output_type": "stream",
          "name": "stdout",
          "text": [
            "[1, 3, 2, 0]\n",
            "[3, 1, 2, 0]\n",
            "HI\n",
            "[1, 3, 2, 0]\n",
            "[2, 3, 1, 0]\n",
            "HI\n",
            "[1, 3, 2, 0]\n",
            "[0, 3, 2, 1]\n",
            "HI\n",
            "[1, 3, 2, 0]\n",
            "[1, 2, 3, 0]\n",
            "HI\n",
            "[1, 3, 2, 0]\n",
            "[1, 0, 2, 3]\n",
            "HI\n",
            "[1, 3, 2, 0]\n",
            "[1, 3, 0, 2]\n",
            "HI\n",
            "[0, 3, 2, 1]\n",
            "[3, 0, 2, 1]\n",
            "HI\n",
            "[0, 3, 2, 1]\n",
            "[2, 3, 0, 1]\n",
            "HI\n",
            "[0, 3, 2, 1]\n",
            "[1, 3, 2, 0]\n",
            "HI\n",
            "[0, 3, 2, 1]\n",
            "[0, 2, 3, 1]\n",
            "HI\n",
            "[0, 3, 2, 1]\n",
            "[0, 1, 2, 3]\n",
            "HI\n",
            "[0, 3, 2, 1]\n",
            "[0, 3, 1, 2]\n",
            "HI\n",
            "([0, 3, 2, 1], 1400)\n"
          ]
        }
      ]
    }
  ]
}