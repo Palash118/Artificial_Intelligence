{
  "nbformat": 4,
  "nbformat_minor": 0,
  "metadata": {
    "colab": {
      "provenance": [],
      "authorship_tag": "ABX9TyMRUFjbjzhHHEk+/WVE0gM5",
      "include_colab_link": true
    },
    "kernelspec": {
      "name": "python3",
      "display_name": "Python 3"
    },
    "language_info": {
      "name": "python"
    }
  },
  "cells": [
    {
      "cell_type": "markdown",
      "metadata": {
        "id": "view-in-github",
        "colab_type": "text"
      },
      "source": [
        "<a href=\"https://colab.research.google.com/github/Palash118/Artificial_Intelligence/blob/main/Beam_Search.ipynb\" target=\"_parent\"><img src=\"https://colab.research.google.com/assets/colab-badge.svg\" alt=\"Open In Colab\"/></a>"
      ]
    },
    {
      "cell_type": "code",
      "execution_count": null,
      "metadata": {
        "id": "JDeosK6Ocv4A"
      },
      "outputs": [],
      "source": [
        "from collections import defaultdict\n",
        "from queue import PriorityQueue\n",
        "from collections import OrderedDict"
      ]
    },
    {
      "cell_type": "code",
      "source": [
        "class Graph:\n",
        "  def __init__(self,directed):\n",
        "    self.graph = defaultdict(dict)\n",
        "    self.directed = directed\n",
        "    self.parent = defaultdict(dict)\n",
        "    self.heuristic = defaultdict(dict)\n",
        "\n",
        "  def add_edge(self,u,v,weight):\n",
        "    if self.directed:\n",
        "      #value = (weight,v)\n",
        "      self.graph[u][v] = (weight)\n",
        "    else:\n",
        "      #value = (weight,v)\n",
        "      self.graph[u][v] = (weight)\n",
        "      #value = (weight,u)\n",
        "      self.graph[v][u] = (weight)\n",
        "\n",
        "  def add_heuristic(self,node,value):\n",
        "    self.heuristic[node] = (value)\n",
        "\n",
        "\n",
        "  def ucs(self, current_node, goal_node,k):\n",
        "    visited = []\n",
        "    ara = []\n",
        "    start_node = current_node\n",
        "    h_value = self.heuristic[current_node]\n",
        "    queue = []\n",
        "    queue.append((h_value,current_node,0))\n",
        "    queue.sort()\n",
        "\n",
        "    while len(queue) != 0:\n",
        "      print(queue)\n",
        "      item = queue.pop(0)\n",
        "      current_node = item[1]\n",
        "      print(current_node,item[2])\n",
        "\n",
        "      if current_node == goal_node:\n",
        "        cost = item[2]\n",
        "        cost1 = cost\n",
        "        ara.append(goal_node)\n",
        "        print(self.parent)\n",
        "        while start_node != goal_node:\n",
        "          for key,value in self.parent.items():\n",
        "            if goal_node in self.graph[key] and cost1==self.parent[key][goal_node]:\n",
        "              cost1 = cost1 - self.graph[key][goal_node]\n",
        "              ara.append(key)\n",
        "              goal_node = key\n",
        "\n",
        "        queue.clear()\n",
        "      else:\n",
        "        if current_node in visited:\n",
        "          continue\n",
        "\n",
        "        #print(current_node, end=\" \")\n",
        "        visited.append(current_node)\n",
        "        \n",
        "        for neighbour in self.graph[current_node]:\n",
        "          self.parent[current_node][neighbour] = (self.graph[current_node][neighbour]+item[2])\n",
        "          queue.append((self.heuristic[neighbour],neighbour,self.graph[current_node][neighbour]+item[2]))\n",
        "          queue.sort()\n",
        "          if(len(queue)>k):\n",
        "            queue.pop(-1)\n",
        "\n",
        "    print(\"Optimal Cost: \",cost)\n",
        "    print(\"Optimal path: \", end=\" \")\n",
        "    print(ara[::-1],end=\" \")\n",
        "    "
      ],
      "metadata": {
        "id": "t6ehms2_c9Bj"
      },
      "execution_count": null,
      "outputs": []
    },
    {
      "cell_type": "code",
      "source": [
        "g = Graph(True)"
      ],
      "metadata": {
        "id": "ndx_Socyc_jp"
      },
      "execution_count": null,
      "outputs": []
    },
    {
      "cell_type": "code",
      "source": [
        "#g.graph = defaultdict(list)\n",
        "#g.add_edge('S', 'A', 5)\n",
        "#g.add_edge('S', 'B', 2)\n",
        "#g.add_edge('S', 'C', 4)\n",
        "#g.add_edge('A', 'D', 9)\n",
        "#g.add_edge('A', 'E', 4)\n",
        "#g.add_edge('D', 'H', 7)\n",
        "#g.add_edge('E', 'G', 6)\n",
        "#g.add_edge('B', 'G', 6)\n",
        "#g.add_edge('C', 'F', 2)\n",
        "#g.add_edge('F', 'G', 1)\n",
        "infinity = 100000009\n",
        "\n",
        "g.add_heuristic('S',8)\n",
        "g.add_heuristic('A',8)\n",
        "g.add_heuristic('B',4)\n",
        "g.add_heuristic('C',3)\n",
        "g.add_heuristic('D',infinity)\n",
        "g.add_heuristic('E',infinity)\n",
        "g.add_heuristic('G',0)\n",
        "\n",
        "\n",
        "g.add_edge('S','A',1)\n",
        "g.add_edge('S','B',5)\n",
        "g.add_edge('S','C',8)\n",
        "g.add_edge('A','D',3)\n",
        "g.add_edge('A','E',7)\n",
        "g.add_edge('A','G',9)\n",
        "g.add_edge('B','G',4)\n",
        "g.add_edge('C','G',5)\n",
        "\n",
        "\n"
      ],
      "metadata": {
        "id": "dww8tezvdC45"
      },
      "execution_count": null,
      "outputs": []
    },
    {
      "cell_type": "code",
      "source": [
        "print(g.graph)\n",
        "print(g.heuristic)"
      ],
      "metadata": {
        "colab": {
          "base_uri": "https://localhost:8080/"
        },
        "id": "CcXUHHbxdGpZ",
        "outputId": "fb7ad4c7-2581-4cf7-b5bb-008e13081bc0"
      },
      "execution_count": null,
      "outputs": [
        {
          "output_type": "stream",
          "name": "stdout",
          "text": [
            "defaultdict(<class 'dict'>, {'S': {'A': 1, 'B': 5, 'C': 8}, 'A': {'D': 3, 'E': 7, 'G': 9}, 'B': {'G': 4}, 'C': {'G': 5}})\n",
            "defaultdict(<class 'dict'>, {'S': 8, 'A': 8, 'B': 4, 'C': 3, 'D': 100000009, 'E': 100000009, 'G': 0})\n"
          ]
        }
      ]
    },
    {
      "cell_type": "code",
      "source": [
        "k = int(input(\"Enter the value of k : \"))\n",
        "\n",
        "g.ucs('S','G',k)"
      ],
      "metadata": {
        "colab": {
          "base_uri": "https://localhost:8080/"
        },
        "id": "avVjTkpddJup",
        "outputId": "20e2acc5-d64d-47bf-d687-bc4b93f037b0"
      },
      "execution_count": null,
      "outputs": [
        {
          "output_type": "stream",
          "name": "stdout",
          "text": [
            "Enter the value of k : 2\n",
            "[(8, 'S', 0)]\n",
            "S 0\n",
            "[(3, 'C', 8), (4, 'B', 5)]\n",
            "C 8\n",
            "[(0, 'G', 13), (4, 'B', 5)]\n",
            "G 13\n",
            "defaultdict(<class 'dict'>, {'S': {'A': 1, 'B': 5, 'C': 8}, 'C': {'G': 13}})\n",
            "Optimal Cost:  13\n",
            "Optimal path:  ['S', 'C', 'G'] "
          ]
        }
      ]
    },
    {
      "cell_type": "code",
      "source": [
        "visited = []\n",
        "visited.append((1,2))\n",
        "visited.append((2,3))\n",
        "visited.append((4,5))\n",
        "print(visited[1][1])\n",
        "visited.pop(0)\n",
        "print(visited)\n",
        "print(len(visited))\n",
        "visited.sort(reverse=True)\n",
        "print(visited)\n",
        "visited.clear()\n",
        "print(visited)"
      ],
      "metadata": {
        "colab": {
          "base_uri": "https://localhost:8080/"
        },
        "id": "k-YpijkydWbK",
        "outputId": "666467e1-f966-46ed-e79f-9ae7b755cfd5"
      },
      "execution_count": null,
      "outputs": [
        {
          "output_type": "stream",
          "name": "stdout",
          "text": [
            "3\n",
            "[(2, 3), (4, 5)]\n",
            "2\n",
            "[(4, 5), (2, 3)]\n",
            "[]\n"
          ]
        }
      ]
    }
  ]
}