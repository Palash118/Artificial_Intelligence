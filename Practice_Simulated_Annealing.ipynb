{
  "nbformat": 4,
  "nbformat_minor": 0,
  "metadata": {
    "colab": {
      "provenance": [],
      "authorship_tag": "ABX9TyMneXE5thRyqg7BTujOvgLG",
      "include_colab_link": true
    },
    "kernelspec": {
      "name": "python3",
      "display_name": "Python 3"
    },
    "language_info": {
      "name": "python"
    }
  },
  "cells": [
    {
      "cell_type": "markdown",
      "metadata": {
        "id": "view-in-github",
        "colab_type": "text"
      },
      "source": [
        "<a href=\"https://colab.research.google.com/github/Palash118/Artificial_Intelligence/blob/main/Practice_Simulated_Annealing.ipynb\" target=\"_parent\"><img src=\"https://colab.research.google.com/assets/colab-badge.svg\" alt=\"Open In Colab\"/></a>"
      ]
    },
    {
      "cell_type": "code",
      "execution_count": null,
      "metadata": {
        "id": "W34hXjgm-xjg"
      },
      "outputs": [],
      "source": [
        "import random\n",
        "import math"
      ]
    },
    {
      "cell_type": "code",
      "source": [
        "def function(x1,x2):\n",
        "  root = math.sqrt((x1**2)+(x2**2))\n",
        "  f = -1 * (abs(math.sin(x1)*math.cos(x2) * math.exp(abs(1-(root/math.pi)))))\n",
        "  return f\n",
        "\n"
      ],
      "metadata": {
        "id": "7SBHip9u_Q1p"
      },
      "execution_count": null,
      "outputs": []
    },
    {
      "cell_type": "code",
      "source": [
        "if __name__ == \"__main__\":\n",
        "  x1 = float(random.uniform(-10,10))\n",
        "  x2 = float(random.uniform(-10,10))\n",
        "  \n",
        "  t = 100\n",
        "  t_final = 0.001\n",
        "  deltaT = 0.009\n",
        "\n",
        "  currentState = function(x1,x2)\n",
        "  best = currentState\n",
        "\n",
        "  while t > t_final:\n",
        "    x1 = float(random.uniform(-10,10))\n",
        "    x2 = float(random.uniform(-10,10))\n",
        "    newState = function(x1,x2)\n",
        "    deltaE = newState - currentState\n",
        "\n",
        "    if deltaE < 0:\n",
        "      currentState = newState\n",
        "      best = newState\n",
        "      t = t- deltaT\n",
        "\n",
        "    elif deltaE >= 0:\n",
        "      p = math.exp(-1*(deltaE)/t)\n",
        "      r = float(random.uniform(0,1))\n",
        "      if(r<=p):\n",
        "        currentState = newState\n",
        "        t = t - deltaT\n",
        "\n",
        "  print(\"x1 = \",x1)\n",
        "  print(\"x2 = \",x2)\n",
        "  print(\"delta E = \",deltaE)\n",
        "  print(\"best = \",best)\n"
      ],
      "metadata": {
        "colab": {
          "base_uri": "https://localhost:8080/"
        },
        "id": "j51vCoIOAK84",
        "outputId": "21571e2b-17cd-4272-f563-9028863c5987"
      },
      "execution_count": null,
      "outputs": [
        {
          "output_type": "stream",
          "name": "stdout",
          "text": [
            "x1 =  -8.056998639862964\n",
            "x2 =  9.63833290570087\n",
            "delta E =  0.002104384618476729\n",
            "best =  -19.203662605626366\n"
          ]
        }
      ]
    }
  ]
}