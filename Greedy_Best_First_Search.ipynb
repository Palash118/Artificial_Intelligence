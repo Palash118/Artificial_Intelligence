{
  "nbformat": 4,
  "nbformat_minor": 0,
  "metadata": {
    "colab": {
      "provenance": [],
      "authorship_tag": "ABX9TyOzQoWIjGDKmwO5E1jXI/gg",
      "include_colab_link": true
    },
    "kernelspec": {
      "name": "python3",
      "display_name": "Python 3"
    },
    "language_info": {
      "name": "python"
    }
  },
  "cells": [
    {
      "cell_type": "markdown",
      "metadata": {
        "id": "view-in-github",
        "colab_type": "text"
      },
      "source": [
        "<a href=\"https://colab.research.google.com/github/Palash118/Artificial_Intelligence/blob/main/Greedy_Best_First_Search.ipynb\" target=\"_parent\"><img src=\"https://colab.research.google.com/assets/colab-badge.svg\" alt=\"Open In Colab\"/></a>"
      ]
    },
    {
      "cell_type": "code",
      "execution_count": null,
      "metadata": {
        "id": "Qlq6Q8vyqRqa"
      },
      "outputs": [],
      "source": [
        "from collections import defaultdict\n",
        "from queue import PriorityQueue\n",
        "from collections import OrderedDict"
      ]
    },
    {
      "cell_type": "code",
      "source": [
        "class Graph:\n",
        "  def __init__(self,directed):\n",
        "    self.graph = defaultdict(dict)\n",
        "    self.directed = directed\n",
        "    self.parent = defaultdict(dict)\n",
        "    self.heuristic = defaultdict(dict)\n",
        "\n",
        "  def add_edge(self,u,v,weight):\n",
        "    if self.directed:\n",
        "      #value = (weight,v)\n",
        "      self.graph[u][v] = (weight)\n",
        "    else:\n",
        "      #value = (weight,v)\n",
        "      self.graph[u][v] = (weight)\n",
        "      #value = (weight,u)\n",
        "      self.graph[v][u] = (weight)\n",
        "\n",
        "  def add_heuristic(self,node,value):\n",
        "    self.heuristic[node] = (value)\n",
        "\n",
        "\n",
        "  def ucs(self, current_node, goal_node):\n",
        "    visited = []\n",
        "    ara = []\n",
        "    start_node = current_node\n",
        "    h_value = self.heuristic[current_node]\n",
        "    queue = PriorityQueue()\n",
        "    queue.put((h_value,current_node,0))\n",
        "\n",
        "    while not queue.empty():\n",
        "      item = queue.get()\n",
        "      current_node = item[1]\n",
        "      print(current_node,item[2])\n",
        "\n",
        "      if current_node == goal_node:\n",
        "        cost = item[2]\n",
        "        cost1 = cost\n",
        "        ara.append(goal_node)\n",
        "        print(self.parent)\n",
        "        while start_node != goal_node:\n",
        "          for key,value in self.parent.items():\n",
        "            if goal_node in self.graph[key] and cost1==self.parent[key][goal_node]:\n",
        "              cost1 = cost1 - self.graph[key][goal_node]\n",
        "              ara.append(key)\n",
        "              goal_node = key\n",
        "\n",
        "        queue.queue.clear()\n",
        "      else:\n",
        "        if current_node in visited:\n",
        "          continue\n",
        "\n",
        "        #print(current_node, end=\" \")\n",
        "        visited.append(current_node)\n",
        "        \n",
        "        for neighbour in self.graph[current_node]:\n",
        "          self.parent[current_node][neighbour] = (self.graph[current_node][neighbour]+item[2])\n",
        "          queue.put((self.heuristic[neighbour],neighbour,self.graph[current_node][neighbour]+item[2]))\n",
        "    print(\"Optimal Cost: \",cost)\n",
        "    print(\"Optimal path: \", end=\" \")\n",
        "    print(ara[::-1],end=\" \")\n",
        "    "
      ],
      "metadata": {
        "id": "E074cqhwsoKp"
      },
      "execution_count": null,
      "outputs": []
    },
    {
      "cell_type": "code",
      "source": [
        "g = Graph(True)"
      ],
      "metadata": {
        "id": "NQ1CKW4CvK20"
      },
      "execution_count": null,
      "outputs": []
    },
    {
      "cell_type": "code",
      "source": [
        "#g.graph = defaultdict(list)\n",
        "#g.add_edge('S', 'A', 5)\n",
        "#g.add_edge('S', 'B', 2)\n",
        "#g.add_edge('S', 'C', 4)\n",
        "#g.add_edge('A', 'D', 9)\n",
        "#g.add_edge('A', 'E', 4)\n",
        "#g.add_edge('D', 'H', 7)\n",
        "#g.add_edge('E', 'G', 6)\n",
        "#g.add_edge('B', 'G', 6)\n",
        "#g.add_edge('C', 'F', 2)\n",
        "#g.add_edge('F', 'G', 1)\n",
        "infinity = 100000009\n",
        "\n",
        "g.add_heuristic('S',8)\n",
        "g.add_heuristic('A',8)\n",
        "g.add_heuristic('B',4)\n",
        "g.add_heuristic('C',3)\n",
        "g.add_heuristic('D',infinity)\n",
        "g.add_heuristic('E',infinity)\n",
        "g.add_heuristic('G',0)\n",
        "\n",
        "\n",
        "g.add_edge('S','A',1)\n",
        "g.add_edge('S','B',5)\n",
        "g.add_edge('S','C',8)\n",
        "g.add_edge('A','D',3)\n",
        "g.add_edge('A','E',7)\n",
        "g.add_edge('A','G',9)\n",
        "g.add_edge('B','G',4)\n",
        "g.add_edge('C','G',5)\n",
        "\n",
        "\n"
      ],
      "metadata": {
        "id": "NUYOdirfvM1I"
      },
      "execution_count": null,
      "outputs": []
    },
    {
      "cell_type": "code",
      "source": [
        "print(g.graph)\n",
        "print(g.heuristic)"
      ],
      "metadata": {
        "colab": {
          "base_uri": "https://localhost:8080/"
        },
        "id": "D7QOCkMMvQP7",
        "outputId": "e726e279-0955-4df2-bc46-00541ec99f1b"
      },
      "execution_count": null,
      "outputs": [
        {
          "output_type": "stream",
          "name": "stdout",
          "text": [
            "defaultdict(<class 'dict'>, {'S': {'A': 1, 'B': 5, 'C': 8}, 'A': {'D': 3, 'E': 7, 'G': 9}, 'B': {'G': 4}, 'C': {'G': 5}})\n",
            "defaultdict(<class 'dict'>, {'S': 8, 'A': 8, 'B': 4, 'C': 3, 'D': 100000009, 'E': 100000009, 'G': 0})\n"
          ]
        }
      ]
    },
    {
      "cell_type": "code",
      "source": [
        "g.ucs('S','G')"
      ],
      "metadata": {
        "colab": {
          "base_uri": "https://localhost:8080/"
        },
        "id": "fBOL2bWBvVDx",
        "outputId": "d3254846-0b23-4a8d-97f9-d16d84760d9b"
      },
      "execution_count": null,
      "outputs": [
        {
          "output_type": "stream",
          "name": "stdout",
          "text": [
            "S 0\n",
            "C 8\n",
            "G 13\n",
            "defaultdict(<class 'dict'>, {'S': {'A': 1, 'B': 5, 'C': 8}, 'C': {'G': 13}})\n",
            "Optimal Cost:  13\n",
            "Optimal path:  ['S', 'C', 'G'] "
          ]
        }
      ]
    },
    {
      "cell_type": "code",
      "source": [
        "queue = PriorityQueue()\n",
        "queue.put(1)\n",
        "queue.put(6)\n",
        "queue.put(4)\n",
        "queue.put(2)\n",
        "queue.put(7)\n"
      ],
      "metadata": {
        "id": "PAMa5IrvQ84V"
      },
      "execution_count": null,
      "outputs": []
    },
    {
      "cell_type": "code",
      "source": [
        "print(queue.qsize())"
      ],
      "metadata": {
        "colab": {
          "base_uri": "https://localhost:8080/"
        },
        "id": "_BLTRinGRKjL",
        "outputId": "8f13d95c-444c-4f08-aece-1e46635b1e88"
      },
      "execution_count": null,
      "outputs": [
        {
          "output_type": "stream",
          "name": "stdout",
          "text": [
            "5\n"
          ]
        }
      ]
    }
  ]
}