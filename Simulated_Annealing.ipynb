{
  "nbformat": 4,
  "nbformat_minor": 0,
  "metadata": {
    "colab": {
      "provenance": [],
      "authorship_tag": "ABX9TyMQ4LvizQwUEYZSKtw1QVdm",
      "include_colab_link": true
    },
    "kernelspec": {
      "name": "python3",
      "display_name": "Python 3"
    },
    "language_info": {
      "name": "python"
    }
  },
  "cells": [
    {
      "cell_type": "markdown",
      "metadata": {
        "id": "view-in-github",
        "colab_type": "text"
      },
      "source": [
        "<a href=\"https://colab.research.google.com/github/Palash118/Artificial_Intelligence/blob/main/Simulated_Annealing.ipynb\" target=\"_parent\"><img src=\"https://colab.research.google.com/assets/colab-badge.svg\" alt=\"Open In Colab\"/></a>"
      ]
    },
    {
      "cell_type": "code",
      "execution_count": null,
      "metadata": {
        "colab": {
          "base_uri": "https://localhost:8080/"
        },
        "id": "1xLqgE3U3kXn",
        "outputId": "350d8507-bfbd-435d-b0e6-6f5e0f08d664"
      },
      "outputs": [
        {
          "output_type": "stream",
          "name": "stdout",
          "text": [
            "x1 =  -8.068403403813134\n",
            "x2 =  -9.622306364712028\n",
            "delta E =  0.013280483548374633\n",
            "best =  -19.202259454292356\n"
          ]
        }
      ],
      "source": [
        "import random\n",
        "import math\n",
        "\n",
        "def function(x1, x2):\n",
        "    root = math.sqrt((x1**2)+(x2**2))\n",
        "    f = -1*(abs(math.sin(x1) * math.cos(x2) * math.exp(abs(1 - (root/math.pi)))))\n",
        "    return f\n",
        "\n",
        "if __name__==\"__main__\":\n",
        "    x1 = float(random.uniform(-10,10))\n",
        "    x2 = float(random.uniform(-10,10))\n",
        "\n",
        "    T = 100\n",
        "    T_final = 0.001\n",
        "    deltaT = 0.009\n",
        "\n",
        "    currentState = function(x1,x2)\n",
        "    best = currentState\n",
        "\n",
        "    while(T > T_final):\n",
        "        x1 = float(random.uniform(-10,10))\n",
        "        x2 = float(random.uniform(-10,10))\n",
        "        newState = function(x1,x2)\n",
        "        deltaE = newState - currentState\n",
        "\n",
        "        if (deltaE < 0):\n",
        "            currentState = newState\n",
        "            best = newState\n",
        "            T = T - deltaT\n",
        "\n",
        "        elif (deltaE >= 0):\n",
        "            P = math.exp(-1*(deltaE)/T)\n",
        "            R = float(random.uniform(0,1))\n",
        "            if (R <= P):\n",
        "                currentState = newState\n",
        "                T = T - deltaT\n",
        "\n",
        "    print(\"x1 = \",x1)\n",
        "    print(\"x2 = \",x2)\n",
        "    print(\"delta E = \",deltaE)\n",
        "    print(\"best = \",best)"
      ]
    }
  ]
}